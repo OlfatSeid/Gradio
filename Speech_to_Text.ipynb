{
  "nbformat": 4,
  "nbformat_minor": 0,
  "metadata": {
    "colab": {
      "provenance": []
    },
    "kernelspec": {
      "name": "python3",
      "display_name": "Python 3"
    },
    "language_info": {
      "name": "python"
    }
  },
  "cells": [
    {
      "cell_type": "code",
      "execution_count": 1,
      "metadata": {
        "collapsed": true,
        "id": "_BwpkkqnWAiQ"
      },
      "outputs": [],
      "source": [
        "%%capture\n",
        "!pip install gradio SpeechRecognition"
      ]
    },
    {
      "cell_type": "code",
      "source": [
        "import gradio as gr\n",
        "import speech_recognition as sr"
      ],
      "metadata": {
        "id": "Sv-pGTFiwLEE"
      },
      "execution_count": 2,
      "outputs": []
    },
    {
      "cell_type": "code",
      "source": [
        "\n",
        "def speech_to_text(audio):\n",
        "\n",
        "    recognizer = sr.Recognizer()\n",
        "    try:\n",
        "\n",
        "        with sr.AudioFile(audio) as source:       # convert speech to text\n",
        "            audio_data = recognizer.record(source)\n",
        "            text = recognizer.recognize_google(audio_data)\n",
        "            return text\n",
        "    except Exception as e:\n",
        "        return f\"Error: {str(e)}\"\n",
        "\n",
        "interface = gr.Interface(\n",
        "    fn=speech_to_text,\n",
        "    inputs=gr.Audio(label=\"Record or Upload Audio\", type=\"filepath\"),\n",
        "    outputs=gr.Textbox(label=\"Transcribed Text\"),\n",
        "    title=\"Speech-to-Text Converter\",\n",
        "    description=\"Record or upload audio, and this tool will convert it into text using Google's speech recognition API.\",\n",
        "    css=\".gradio-container {background-color:darkgreen;}\",\n",
        ")\n",
        "\n",
        "\n",
        "interface.launch()"
      ],
      "metadata": {
        "colab": {
          "base_uri": "https://localhost:8080/",
          "height": 646
        },
        "id": "_ipyllFBr-jC",
        "outputId": "bf22dadf-54ff-45c5-f0a9-6952bb10eb1f"
      },
      "execution_count": 3,
      "outputs": [
        {
          "output_type": "stream",
          "name": "stdout",
          "text": [
            "Running Gradio in a Colab notebook requires sharing enabled. Automatically setting `share=True` (you can turn this off by setting `share=False` in `launch()` explicitly).\n",
            "\n",
            "Colab notebook detected. To show errors in colab notebook, set debug=True in launch()\n",
            "* Running on public URL: https://21a3f620e6ab9677a0.gradio.live\n",
            "\n",
            "This share link expires in 72 hours. For free permanent hosting and GPU upgrades, run `gradio deploy` from the terminal in the working directory to deploy to Hugging Face Spaces (https://huggingface.co/spaces)\n"
          ]
        },
        {
          "output_type": "display_data",
          "data": {
            "text/plain": [
              "<IPython.core.display.HTML object>"
            ],
            "text/html": [
              "<div><iframe src=\"https://21a3f620e6ab9677a0.gradio.live\" width=\"100%\" height=\"500\" allow=\"autoplay; camera; microphone; clipboard-read; clipboard-write;\" frameborder=\"0\" allowfullscreen></iframe></div>"
            ]
          },
          "metadata": {}
        },
        {
          "output_type": "execute_result",
          "data": {
            "text/plain": []
          },
          "metadata": {},
          "execution_count": 3
        }
      ]
    },
    {
      "cell_type": "code",
      "source": [],
      "metadata": {
        "id": "wOdbHupdw7xV"
      },
      "execution_count": 3,
      "outputs": []
    }
  ]
}