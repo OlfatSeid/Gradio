{
  "nbformat": 4,
  "nbformat_minor": 0,
  "metadata": {
    "colab": {
      "provenance": []
    },
    "kernelspec": {
      "name": "python3",
      "display_name": "Python 3"
    },
    "language_info": {
      "name": "python"
    }
  },
  "cells": [
    {
      "cell_type": "code",
      "source": [
        "%%capture\n",
        "pip install gradio"
      ],
      "metadata": {
        "collapsed": true,
        "id": "y1NtDLOuKrg5"
      },
      "execution_count": 1,
      "outputs": []
    },
    {
      "cell_type": "code",
      "source": [
        "import gradio as gr\n",
        "from PIL import Image, ImageEnhance\n",
        "\n",
        "def apply_sepia(image):\n",
        "\n",
        "    image = image.convert(\"RGB\")\n",
        "\n",
        "    pixels = image.load()\n",
        "    width, height = image.size\n",
        "\n",
        "    # Apply sepia filter\n",
        "    for y in range(height):\n",
        "        for x in range(width):\n",
        "            r, g, b = pixels[x, y]\n",
        "\n",
        "            # Calculate sepia tone\n",
        "            tr = int(0.393 * r + 0.769 * g + 0.189 * b)\n",
        "            tg = int(0.349 * r + 0.686 * g + 0.168 * b)\n",
        "            tb = int(0.272 * r + 0.534 * g + 0.131 * b)\n",
        "\n",
        "\n",
        "            pixels[x, y] = (min(tr, 255), min(tg, 255), min(tb, 255))     # Clip to the max value (255)\n",
        "\n",
        "    return image\n",
        "\n",
        "\n",
        "interface = gr.Interface(\n",
        "    fn=apply_sepia,\n",
        "    inputs=gr.Image(type=\"pil\", label=\"Upload Image\"),\n",
        "    outputs=gr.Image(type=\"pil\", label=\"Sepia Image\"),\n",
        "    title=\"Sepia Image Filter\",\n",
        "    description=\"Upload an image to apply a sepia filter.\",\n",
        ")\n",
        "\n",
        "\n",
        "interface.launch()\n"
      ],
      "metadata": {
        "colab": {
          "base_uri": "https://localhost:8080/",
          "height": 646
        },
        "id": "OOmkFDoGEIXh",
        "outputId": "7e47b70b-20e6-40dd-a27a-ee9c2b28c8f2"
      },
      "execution_count": 2,
      "outputs": [
        {
          "output_type": "stream",
          "name": "stdout",
          "text": [
            "Running Gradio in a Colab notebook requires sharing enabled. Automatically setting `share=True` (you can turn this off by setting `share=False` in `launch()` explicitly).\n",
            "\n",
            "Colab notebook detected. To show errors in colab notebook, set debug=True in launch()\n",
            "* Running on public URL: https://25842e9bf372399ead.gradio.live\n",
            "\n",
            "This share link expires in 72 hours. For free permanent hosting and GPU upgrades, run `gradio deploy` from the terminal in the working directory to deploy to Hugging Face Spaces (https://huggingface.co/spaces)\n"
          ]
        },
        {
          "output_type": "display_data",
          "data": {
            "text/plain": [
              "<IPython.core.display.HTML object>"
            ],
            "text/html": [
              "<div><iframe src=\"https://25842e9bf372399ead.gradio.live\" width=\"100%\" height=\"500\" allow=\"autoplay; camera; microphone; clipboard-read; clipboard-write;\" frameborder=\"0\" allowfullscreen></iframe></div>"
            ]
          },
          "metadata": {}
        },
        {
          "output_type": "execute_result",
          "data": {
            "text/plain": []
          },
          "metadata": {},
          "execution_count": 2
        }
      ]
    },
    {
      "cell_type": "code",
      "source": [],
      "metadata": {
        "id": "vOEWjWZFIBoq"
      },
      "execution_count": 2,
      "outputs": []
    }
  ]
}