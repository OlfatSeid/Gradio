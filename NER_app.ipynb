{
  "cells": [
    {
      "cell_type": "markdown",
      "metadata": {
        "id": "AjpQ3EHQU3OV"
      },
      "source": [
        "## Building a Named Entity Recognition App"
      ]
    },
    {
      "cell_type": "code",
      "execution_count": 1,
      "metadata": {
        "id": "rd1fZ4bBUVxa"
      },
      "outputs": [],
      "source": [
        "!pip install -q gradio"
      ]
    },
    {
      "cell_type": "code",
      "execution_count": 2,
      "metadata": {
        "id": "KV0wBPf7W0CR"
      },
      "outputs": [],
      "source": [
        "import gradio as gr\n",
        "from transformers import pipeline"
      ]
    },
    {
      "cell_type": "code",
      "execution_count": 3,
      "metadata": {
        "colab": {
          "base_uri": "https://localhost:8080/"
        },
        "id": "eHJxT9MpW-NV",
        "outputId": "3b84decf-ea21-42c1-c281-00729c645b56"
      },
      "outputs": [
        {
          "output_type": "stream",
          "name": "stderr",
          "text": [
            "/usr/local/lib/python3.11/dist-packages/huggingface_hub/utils/_auth.py:94: UserWarning: \n",
            "The secret `HF_TOKEN` does not exist in your Colab secrets.\n",
            "To authenticate with the Hugging Face Hub, create a token in your settings tab (https://huggingface.co/settings/tokens), set it as secret in your Google Colab and restart your session.\n",
            "You will be able to reuse this secret in all of your notebooks.\n",
            "Please note that authentication is recommended but still optional to access public models or datasets.\n",
            "  warnings.warn(\n",
            "Some weights of the model checkpoint at dslim/bert-base-NER were not used when initializing BertForTokenClassification: ['bert.pooler.dense.bias', 'bert.pooler.dense.weight']\n",
            "- This IS expected if you are initializing BertForTokenClassification from the checkpoint of a model trained on another task or with another architecture (e.g. initializing a BertForSequenceClassification model from a BertForPreTraining model).\n",
            "- This IS NOT expected if you are initializing BertForTokenClassification from the checkpoint of a model that you expect to be exactly identical (initializing a BertForSequenceClassification model from a BertForSequenceClassification model).\n",
            "Device set to use cuda:0\n"
          ]
        }
      ],
      "source": [
        "NER= pipeline(\"ner\", model=\"dslim/bert-base-NER\")"
      ]
    },
    {
      "cell_type": "code",
      "execution_count": 4,
      "metadata": {
        "colab": {
          "base_uri": "https://localhost:8080/"
        },
        "id": "oFF__97GYPIz",
        "outputId": "1de933fc-ed76-494d-a0d2-7c99e8416155"
      },
      "outputs": [
        {
          "output_type": "execute_result",
          "data": {
            "text/plain": [
              "[{'entity': 'B-PER',\n",
              "  'score': 0.9990625,\n",
              "  'index': 4,\n",
              "  'word': 'Andrew',\n",
              "  'start': 11,\n",
              "  'end': 17},\n",
              " {'entity': 'B-ORG',\n",
              "  'score': 0.9927856,\n",
              "  'index': 10,\n",
              "  'word': 'Deep',\n",
              "  'start': 32,\n",
              "  'end': 36},\n",
              " {'entity': 'I-ORG',\n",
              "  'score': 0.99677867,\n",
              "  'index': 11,\n",
              "  'word': '##L',\n",
              "  'start': 36,\n",
              "  'end': 37},\n",
              " {'entity': 'I-ORG',\n",
              "  'score': 0.9954496,\n",
              "  'index': 12,\n",
              "  'word': '##ear',\n",
              "  'start': 37,\n",
              "  'end': 40},\n",
              " {'entity': 'I-ORG',\n",
              "  'score': 0.9959293,\n",
              "  'index': 13,\n",
              "  'word': '##ning',\n",
              "  'start': 40,\n",
              "  'end': 44},\n",
              " {'entity': 'I-ORG',\n",
              "  'score': 0.8917463,\n",
              "  'index': 14,\n",
              "  'word': '##A',\n",
              "  'start': 44,\n",
              "  'end': 45},\n",
              " {'entity': 'I-ORG',\n",
              "  'score': 0.50361186,\n",
              "  'index': 15,\n",
              "  'word': '##I',\n",
              "  'start': 45,\n",
              "  'end': 46},\n",
              " {'entity': 'B-LOC',\n",
              "  'score': 0.99969244,\n",
              "  'index': 20,\n",
              "  'word': 'California',\n",
              "  'start': 61,\n",
              "  'end': 71}]"
            ]
          },
          "metadata": {},
          "execution_count": 4
        }
      ],
      "source": [
        "text = \"My name is Andrew, I'm building DeepLearningAI and I live in California\"\n",
        "NER(text)"
      ]
    },
    {
      "cell_type": "markdown",
      "source": [
        "**Token Merging**"
      ],
      "metadata": {
        "id": "BuxZp9CPh1Cv"
      }
    },
    {
      "cell_type": "code",
      "source": [
        "def merge_tokens(tokens):\n",
        "    merged_tokens = []\n",
        "    for token in tokens:\n",
        "        if (\n",
        "            merged_tokens\n",
        "            and token['entity'].startswith('I-')\n",
        "            and merged_tokens[-1]['entity'].endswith(token['entity'][2:])\n",
        "        ):\n",
        "            last_token = merged_tokens[-1]\n",
        "            last_token['word'] += token['word'].replace('##', '')\n",
        "            last_token['end'] = token['end']\n",
        "            last_token['score'] = (last_token['score'] + token['score']) / 2\n",
        "        else:\n",
        "            merged_tokens.append(token)\n",
        "    return merged_tokens"
      ],
      "metadata": {
        "id": "7tOMiH7UhteF"
      },
      "execution_count": 5,
      "outputs": []
    },
    {
      "cell_type": "code",
      "source": [
        "def ner(input_text):\n",
        "    output = NER(input_text)\n",
        "    merged_tokens = merge_tokens(output)\n",
        "    return {\n",
        "        \"text\": input_text,\n",
        "        \"entities\": [\n",
        "            {\"start\": t[\"start\"], \"end\": t[\"end\"], \"entity\": t[\"entity\"]}\n",
        "            for t in merged_tokens\n",
        "        ]\n",
        "    }"
      ],
      "metadata": {
        "id": "10kmnjVLiK47"
      },
      "execution_count": 6,
      "outputs": []
    },
    {
      "cell_type": "code",
      "execution_count": 7,
      "metadata": {
        "colab": {
          "base_uri": "https://localhost:8080/",
          "height": 680
        },
        "id": "a50ap8YFYO53",
        "outputId": "c596b579-c473-40d8-ba17-250903ba05d5"
      },
      "outputs": [
        {
          "output_type": "stream",
          "name": "stderr",
          "text": [
            "/usr/local/lib/python3.11/dist-packages/gradio/interface.py:403: UserWarning: The `allow_flagging` parameter in `Interface` is deprecated.Use `flagging_mode` instead.\n",
            "  warnings.warn(\n"
          ]
        },
        {
          "output_type": "stream",
          "name": "stdout",
          "text": [
            "Running Gradio in a Colab notebook requires sharing enabled. Automatically setting `share=True` (you can turn this off by setting `share=False` in `launch()` explicitly).\n",
            "\n",
            "Colab notebook detected. To show errors in colab notebook, set debug=True in launch()\n",
            "* Running on public URL: https://da518d90a2e57b06f8.gradio.live\n",
            "\n",
            "This share link expires in 72 hours. For free permanent hosting and GPU upgrades, run `gradio deploy` from the terminal in the working directory to deploy to Hugging Face Spaces (https://huggingface.co/spaces)\n"
          ]
        },
        {
          "output_type": "display_data",
          "data": {
            "text/plain": [
              "<IPython.core.display.HTML object>"
            ],
            "text/html": [
              "<div><iframe src=\"https://da518d90a2e57b06f8.gradio.live\" width=\"100%\" height=\"500\" allow=\"autoplay; camera; microphone; clipboard-read; clipboard-write;\" frameborder=\"0\" allowfullscreen></iframe></div>"
            ]
          },
          "metadata": {}
        },
        {
          "output_type": "execute_result",
          "data": {
            "text/plain": []
          },
          "metadata": {},
          "execution_count": 7
        }
      ],
      "source": [
        "demo = gr.Interface(fn=ner,\n",
        "                    inputs=[gr.Textbox(label=\"Text to find entities\", lines=2)],\n",
        "                    outputs=[gr.HighlightedText(label=\"Text with entities\")],\n",
        "                    title=\"NER with dslim/bert-base-NER\",\n",
        "                    description=\"Find entities using the `dslim/bert-base-NER` model under the hood!\",\n",
        "                    allow_flagging=\"never\",\n",
        "                     examples=[\n",
        "                           \"My name is Olfat, and I live in Giza\",\n",
        "                           \"Dr. John Smith works at Stanford University, and his research focuses on Artificial Intelligence. He lives in Palo Alto, California.\"\n",
        "                           \"Amal moved to Paris in 2015 and started working at UNESCO as a project manager. Her brother, Karim, is studying medicine in Cairo.\"\n",
        "                           \"The Eiffel Tower is located in Paris, France, and attracts millions of tourists every year. Marie and Jean visited it during their honeymoon.\"\n",
        "                           \"Microsoft Corporation, headquartered in Redmond, Washington, was founded by Bill Gates and Paul Allen in 1975. It is one of the largest tech companies in the world.\"\n",
        "                           \"Barack Obama, the 44th President of the United States, was born in Honolulu, Hawaii, and graduated from Harvard Law School.\"\n",
        "                            ],\n",
        "                     css=\"\"\"\n",
        "                          .gradio-container {background-color: MediumAquaMarine;}\n",
        "                           button.gr-button-primary {background-color: green; color: white; border-radius: 8px; border: none;}\n",
        "                        \"\"\"\n",
        ")\n",
        "\n",
        "demo.launch()"
      ]
    }
  ],
  "metadata": {
    "colab": {
      "provenance": [],
      "gpuType": "T4"
    },
    "kernelspec": {
      "display_name": "Python 3",
      "name": "python3"
    },
    "language_info": {
      "name": "python"
    },
    "accelerator": "GPU"
  },
  "nbformat": 4,
  "nbformat_minor": 0
}